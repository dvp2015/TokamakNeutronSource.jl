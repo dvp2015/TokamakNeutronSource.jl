{
 "cells": [
  {
   "cell_type": "code",
   "execution_count": 11,
   "metadata": {},
   "outputs": [],
   "source": [
    "from typing import Generator"
   ]
  },
  {
   "cell_type": "code",
   "execution_count": 36,
   "metadata": {
    "pycharm": {
     "is_executing": false
    },
    "tags": []
   },
   "outputs": [],
   "source": [
    "from pathlib import Path\n",
    "\n",
    "import numpy as np\n",
    "\n",
    "from tqdm import tqdm\n",
    "\n",
    "import mckit as mc"
   ]
  },
  {
   "cell_type": "code",
   "execution_count": 3,
   "metadata": {
    "pycharm": {
     "is_executing": false,
     "name": "#%%\n"
    }
   },
   "outputs": [
    {
     "name": "stdout",
     "output_type": "stream",
     "text": [
      "Help on function recfromcsv in module numpy.lib.npyio:\n",
      "\n",
      "recfromcsv(fname, **kwargs)\n",
      "    Load ASCII data stored in a comma-separated file.\n",
      "    \n",
      "    The returned array is a record array (if ``usemask=False``, see\n",
      "    `recarray`) or a masked record array (if ``usemask=True``,\n",
      "    see `ma.mrecords.MaskedRecords`).\n",
      "    \n",
      "    Parameters\n",
      "    ----------\n",
      "    fname, kwargs : For a description of input parameters, see `genfromtxt`.\n",
      "    \n",
      "    See Also\n",
      "    --------\n",
      "    numpy.genfromtxt : generic function to load ASCII data.\n",
      "    \n",
      "    Notes\n",
      "    -----\n",
      "    By default, `dtype` is None, which means that the data-type of the output\n",
      "    array will be determined from the data.\n",
      "\n"
     ]
    }
   ],
   "source": [
    "help(np.recfromcsv)"
   ]
  },
  {
   "cell_type": "code",
   "execution_count": 4,
   "metadata": {},
   "outputs": [],
   "source": [
    "def read_csv(path):\n",
    "    return np.genfromtxt(path, dtype=float, delimiter=\",\")"
   ]
  },
  {
   "cell_type": "code",
   "execution_count": 5,
   "metadata": {
    "tags": []
   },
   "outputs": [],
   "source": [
    "rbins = read_csv(\"../wrk/rbins.csv\") * 100.0  # m -> cm\n",
    "zbins = read_csv(\"../wrk/zbins.csv\") * 100.0\n",
    "intensity = read_csv(\"../wrk/src.csv\")"
   ]
  },
  {
   "cell_type": "code",
   "execution_count": 6,
   "metadata": {},
   "outputs": [],
   "source": [
    "from mckit import source\n",
    "from mckit.source import create_bin_distributions\n",
    "\n",
    "\n",
    "start_name=1\n",
    "aux_name = start_name + 10\n",
    "aux_name, x_distr = create_bin_distributions(rbins, aux_name)\n",
    "aux_name, y_distr = create_bin_distributions(zbins, aux_name)\n",
    "probs = []\n",
    "r_indices = []\n",
    "z_indices = []\n",
    "Nx = len(x_distr) - 1\n",
    "Ny = len(y_distr) - 1 \n",
    "\n",
    "for i in range(Nx):\n",
    "    for j in range(Ny):\n",
    "        if intensity[i, j] > 0:\n",
    "            r_indices.append(x_distr[i])\n",
    "            z_indices.append(y_distr[j])\n",
    "            probs.append(intensity[i, j])\n",
    "\n",
    "r_dist = source.Distribution(start_name + 1, r_indices, probs, 'RAD')\n",
    "z_dist = source.Distribution(start_name + 2, z_indices, r_dist, 'EXT')\n",
    "src = source.Source(RAD=r_dist, EXT=z_dist)"
   ]
  },
  {
   "cell_type": "code",
   "execution_count": 7,
   "metadata": {},
   "outputs": [],
   "source": [
    "with open(\"../wrk/sdef-dd-1.txt\", \"w\") as io:    \n",
    "    first_line, text = src.mcnp_repr().split(\"\\n\", maxsplit=1)\n",
    "    comment_line = \"c DD source from TRT_215_8T_NBI plasma model\"\n",
    "    first_line = first_line.lower().replace(\"rad=d2\", \"cell=47 erg=d1 axs=0. 0. 1. rad=d2\")\n",
    "    second_line = \"sp1  -4  -0.01  -2  $ DD fusion 10 keV\"\n",
    "    io.write(\"\\n\".join([comment_line, first_line, second_line, text, \"\"]))"
   ]
  },
  {
   "cell_type": "code",
   "execution_count": 45,
   "metadata": {},
   "outputs": [],
   "source": [
    "def ptrac_to_csv(dst: Path, src: Path) -> None:\n",
    "    PREV_LINE = \"       9000         1        40        47         0\"\n",
    "    wait_prev = True\n",
    "    with src.open() as inp, dst.open(\"w\") as out:\n",
    "        with tqdm(total=1000000) as pbar:\n",
    "            for line in inp:\n",
    "                if wait_prev:\n",
    "                    if line.startswith(PREV_LINE):\n",
    "                        wait_prev = False\n",
    "                else:\n",
    "                    x, y, z = (float(x) for x in line.split())\n",
    "                    r = np.linalg.norm([x, y])\n",
    "                    print(r, z, file=out)\n",
    "                    pbar.update()\n",
    "                    wait_prev = True"
   ]
  },
  {
   "cell_type": "code",
   "execution_count": 55,
   "metadata": {
    "tags": []
   },
   "outputs": [
    {
     "name": "stdout",
     "output_type": "stream",
     "text": [
      "5.46 s ± 45.6 ms per loop (mean ± std. dev. of 7 runs, 1 loop each)\n"
     ]
    }
   ],
   "source": [
    "ptrac_to_csv(Path(\"../wrk/ptrac.csv\"), Path(\"../wrk/ptrac\"))"
   ]
  },
  {
   "cell_type": "code",
   "execution_count": 48,
   "metadata": {},
   "outputs": [],
   "source": [
    "datap = np.genfromtxt(\"../wrk/ptrac.csv\")"
   ]
  },
  {
   "cell_type": "code",
   "execution_count": 49,
   "metadata": {
    "tags": []
   },
   "outputs": [
    {
     "data": {
      "text/plain": [
       "array([[210.37428384,  16.679     ],\n",
       "       [230.69197032,  82.453     ],\n",
       "       [219.76445932,  41.87      ],\n",
       "       ...,\n",
       "       [225.11149673,  53.103     ],\n",
       "       [236.39868892,  67.303     ],\n",
       "       [238.10603793,  26.173     ]])"
      ]
     },
     "execution_count": 49,
     "metadata": {},
     "output_type": "execute_result"
    }
   ],
   "source": [
    "datap"
   ]
  },
  {
   "cell_type": "code",
   "execution_count": 53,
   "metadata": {},
   "outputs": [
    {
     "data": {
      "text/plain": [
       "210.37428383716485"
      ]
     },
     "execution_count": 53,
     "metadata": {},
     "output_type": "execute_result"
    }
   ],
   "source": [
    "\n"
   ]
  },
  {
   "cell_type": "code",
   "execution_count": null,
   "metadata": {},
   "outputs": [],
   "source": []
  }
 ],
 "metadata": {
  "hide_input": false,
  "kernelspec": {
   "display_name": "Python 3 (ipykernel)",
   "language": "python",
   "name": "python3"
  },
  "language_info": {
   "codemirror_mode": {
    "name": "ipython",
    "version": 3
   },
   "file_extension": ".py",
   "mimetype": "text/x-python",
   "name": "python",
   "nbconvert_exporter": "python",
   "pygments_lexer": "ipython3",
   "version": "3.11.1"
  },
  "latex_envs": {
   "LaTeX_envs_menu_present": true,
   "autoclose": false,
   "autocomplete": true,
   "bibliofile": "biblio.bib",
   "cite_by": "apalike",
   "current_citInitial": 1,
   "eqLabelWithNumbers": true,
   "eqNumInitial": 1,
   "hotkeys": {
    "equation": "Ctrl-E",
    "itemize": "Ctrl-I"
   },
   "labels_anchors": false,
   "latex_user_defs": false,
   "report_style_numbering": false,
   "user_envs_cfg": false
  },
  "pycharm": {
   "stem_cell": {
    "cell_type": "raw",
    "metadata": {
     "collapsed": false
    },
    "source": []
   }
  },
  "varInspector": {
   "cols": {
    "lenName": 16,
    "lenType": 16,
    "lenVar": 40
   },
   "kernels_config": {
    "python": {
     "delete_cmd_postfix": "",
     "delete_cmd_prefix": "del ",
     "library": "var_list.py",
     "varRefreshCmd": "print(var_dic_list())"
    },
    "r": {
     "delete_cmd_postfix": ") ",
     "delete_cmd_prefix": "rm(",
     "library": "var_list.r",
     "varRefreshCmd": "cat(var_dic_list()) "
    }
   },
   "types_to_exclude": [
    "module",
    "function",
    "builtin_function_or_method",
    "instance",
    "_Feature"
   ],
   "window_display": false
  }
 },
 "nbformat": 4,
 "nbformat_minor": 4
}
